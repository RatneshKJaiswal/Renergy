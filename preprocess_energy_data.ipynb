{
 "cells": [
  {
   "cell_type": "code",
   "id": "initial_id",
   "metadata": {
    "collapsed": true,
    "ExecuteTime": {
     "end_time": "2025-06-14T08:31:41.760865Z",
     "start_time": "2025-06-14T08:31:41.312120Z"
    }
   },
   "source": [
    "import pandas as pd\n",
    "import numpy as np\n",
    "import matplotlib.pyplot as plt\n",
    "import seaborn as sns\n",
    "from datetime import datetime, date, timedelta\n",
    "import os\n",
    "\n",
    "# Scikit-learn for preprocessing\n",
    "from sklearn.preprocessing import StandardScaler, MinMaxScaler\n",
    "from sklearn.ensemble import IsolationForest # For outlier detection"
   ],
   "outputs": [],
   "execution_count": 1
  },
  {
   "metadata": {
    "ExecuteTime": {
     "end_time": "2025-06-14T08:31:45.005658Z",
     "start_time": "2025-06-14T08:31:44.998565Z"
    }
   },
   "cell_type": "code",
   "source": [
    "# --- Configuration ---\n",
    "# Define the path to your locally available historical data CSV file.\n",
    "LOCAL_DATA_FILE = 'complete_history_store1.csv'\n",
    "\n",
    "# Define the output path for the processed data\n",
    "PROCESSED_DATA_FILE = 'processed_complete_history_store1.csv'\n",
    "\n",
    "# Define the date range for processing (should match your historical data availability)\n",
    "DATA_START_DATE = datetime(2024, 1, 1, 0, 0, 0) # Start of your data\n",
    "DATA_END_DATE = datetime(2025, 6, 13, 23, 59, 59) # End of your data (or latest date available)"
   ],
   "id": "3cdefa0b332beddb",
   "outputs": [],
   "execution_count": 2
  },
  {
   "metadata": {
    "ExecuteTime": {
     "end_time": "2025-06-14T08:31:46.057528Z",
     "start_time": "2025-06-14T08:31:45.945420Z"
    }
   },
   "cell_type": "code",
   "source": [
    "# --- 1. Load Data ---\n",
    "print(f\"--- Loading Data from {LOCAL_DATA_FILE} ---\")\n",
    "try:\n",
    "    if not os.path.exists(LOCAL_DATA_FILE):\n",
    "        raise FileNotFoundError(f\"Local data file '{LOCAL_DATA_FILE}' not found. Please ensure it's in the correct directory.\")\n",
    "\n",
    "    df = pd.read_csv(LOCAL_DATA_FILE)\n",
    "\n",
    "    if df.empty:\n",
    "        raise ValueError(\"Loaded DataFrame is empty.\")\n",
    "\n",
    "    # Ensure timestamp is datetime and filter by date range\n",
    "    df['timestamp'] = pd.to_datetime(df['timestamp'])\n",
    "\n",
    "    # Filter DataFrame by the specified date range\n",
    "    df = df[(df['timestamp'] >= DATA_START_DATE) & (df['timestamp'] <= DATA_END_DATE)]\n",
    "\n",
    "    if df.empty:\n",
    "        print(f\"No data found within the specified date range: {DATA_START_DATE} to {DATA_END_DATE}.\")\n",
    "        exit() # Exit if no data for the specified range\n",
    "\n",
    "    # Set timestamp as index for time series operations\n",
    "    df = df.set_index('timestamp')\n",
    "\n",
    "    # Ensure the index is sorted chronologically\n",
    "    df = df.sort_index()\n",
    "\n",
    "    print(f\"Successfully loaded {len(df)} rows for preprocessing within the specified range.\")\n",
    "    print(\"DataFrame Head (initial load):\")\n",
    "    print(df.head().to_string())\n",
    "\n",
    "except Exception as e:\n",
    "    print(f\"Failed to load historical data from local file: {e}\")\n",
    "    exit()"
   ],
   "id": "586dd908ee2ebfc1",
   "outputs": [
    {
     "name": "stdout",
     "output_type": "stream",
     "text": [
      "--- Loading Data from complete_history_store1.csv ---\n",
      "Successfully loaded 12720 rows for preprocessing within the specified range.\n",
      "DataFrame Head (initial load):\n",
      "                     HVAC_Energy(t)  Refrigeration_Energy(t)  Lighting_Energy(t)  IT_System(t)  Other_System(t)  Electricity_Price(t)  Solar_Available_for_Use(t)  Solar_Used_to_Charge_Battery(t)  Base_Consumption_Loads(t)  Total_Energy(t)  Battery_1_Charge_Discharge(t)  Battery_1_Energy_Stored(t)  Battery_2_Charge_Discharge(t)  Battery_2_Energy_Stored(t)\n",
      "timestamp                                                                                                                                                                                                                                                                                                                                                           \n",
      "2024-01-01 00:00:00      112.630998               191.979173            0.845627     66.751797        51.582381              0.071073                         0.0                              0.0                 423.789975       423.789975                     -29.867059                   30.519058                     -30.488958                   30.231113\n",
      "2024-01-01 01:00:00      100.895347               191.654504            3.317241     54.775060        51.158856              0.063859                         0.0                              0.0                 401.801008       401.801008                     -29.894605                    0.000000                     -28.477433                    0.254868\n",
      "2024-01-01 02:00:00      104.321875               187.191452            0.000000     61.572803        55.897782              0.069423                         0.0                              0.0                 408.983912       408.983912                       0.000000                    0.000000                      -0.349482                    0.000000\n",
      "2024-01-01 03:00:00       97.475065               190.214429            3.745603     43.461095        32.500647              0.071741                         0.0                              0.0                 367.396840       367.396840                       0.000000                    0.000000                       0.000000                    0.000000\n",
      "2024-01-01 04:00:00       89.384721               193.397670            0.000000     53.913850        28.245536              0.069620                         0.0                              0.0                 364.941777       364.941777                       0.000000                    0.000000                       0.000000                    0.000000\n"
     ]
    }
   ],
   "execution_count": 3
  },
  {
   "metadata": {
    "ExecuteTime": {
     "end_time": "2025-06-14T08:31:46.474533Z",
     "start_time": "2025-06-14T08:31:46.404416Z"
    }
   },
   "cell_type": "code",
   "source": [
    "# --- 2. Feature Engineering ---\n",
    "print(\"\\n--- Starting Feature Engineering ---\")\n",
    "\n",
    "# --- 2.1 Time-based Features ---\n",
    "df['hour_of_day'] = df.index.hour\n",
    "df['day_of_week'] = df.index.dayofweek # Monday=0, Sunday=6\n",
    "df['day_of_month'] = df.index.day\n",
    "df['day_of_year'] = df.index.dayofyear\n",
    "df['week_of_year'] = df.index.isocalendar().week.astype(int)\n",
    "df['month'] = df.index.month\n",
    "df['quarter'] = df.index.quarter\n",
    "df['is_weekend'] = (df.index.dayofweek >= 5).astype(int) # 1 if Sat/Sun, 0 otherwise\n",
    "\n",
    "# Simple season mapping (numeric encoding for models)\n",
    "def get_season_numeric(month):\n",
    "    if 3 <= month <= 5: return 0 # Spring\n",
    "    elif 6 <= month <= 8: return 1 # Summer\n",
    "    elif 9 <= month <= 11: return 2 # Autumn\n",
    "    else: return 3 # Winter\n",
    "df['season_encoded'] = df['month'].apply(get_season_numeric)\n",
    "\n",
    "print(\"Added comprehensive time-based features.\")\n",
    "\n",
    "# --- 2.2 Lagged Values ---\n",
    "# Lagged features are crucial for time series forecasting.\n",
    "lag_cols = ['Total_Energy(t)', 'Solar_Available_for_Use(t)', 'Electricity_Price(t)',\n",
    "            'HVAC_Energy(t)', 'Refrigeration_Energy(t)', 'Lighting_Energy(t)']\n",
    "lags = [1, 2, 3, 24, 24*7] # Lag by 1, 2, 3 hours, 1 day, 7 days\n",
    "\n",
    "for col in lag_cols:\n",
    "    for lag in lags:\n",
    "        df[f'{col}_lag_{lag}h'] = df[col].shift(lag)\n",
    "print(f\"Generated lagged features for {', '.join(lag_cols)} for lags: {lags}.\")\n",
    "\n",
    "# --- 2.3 Rolling Averages ---\n",
    "# Rolling features help capture trends and seasonality.\n",
    "rolling_cols = ['Total_Energy(t)', 'Solar_Available_for_Use(t)', 'Electricity_Price(t)']\n",
    "windows = [3, 6, 24, 24*7] # Rolling window of 3, 6 hours, 1 day, 7 days\n",
    "\n",
    "for col in rolling_cols:\n",
    "    for window in windows:\n",
    "        df[f'{col}_roll_mean_{window}h'] = df[col].rolling(window=window, min_periods=1).mean()\n",
    "        df[f'{col}_roll_std_{window}h'] = df[col].rolling(window=window, min_periods=1).std()\n",
    "print(f\"Generated rolling mean and standard deviation features for {', '.join(rolling_cols)} for windows: {windows}.\")\n",
    "\n",
    "# --- 2.4 Interaction Features ---\n",
    "# Combine features to capture more complex relationships.\n",
    "df['Consumption_x_Price'] = df['Total_Energy(t)'] * df['Electricity_Price(t)']\n",
    "df['Solar_x_DaylightHours'] = df['Solar_Available_for_Use(t)'] * (df['hour_of_day'].apply(lambda x: 1 if 6 <= x <= 18 else 0))\n",
    "df['HVAC_x_IsWeekend'] = df['HVAC_Energy(t)'] * df['is_weekend']\n",
    "df['Fridge_x_IsWeekend'] = df['Refrigeration_Energy(t)'] * df['is_weekend']\n",
    "print(\"Generated interaction features.\")\n",
    "\n",
    "# --- 2.5 Holiday Indicators (Placeholder) ---\n",
    "# For synthetic data, we can define a few dummy holidays.\n",
    "# For real-world data, use a robust holiday library like `holidays`.\n",
    "df['is_holiday'] = 0 # Default to no holiday\n",
    "# Example: Christmas and New Year's Day\n",
    "df.loc[df.index.normalize() == pd.to_datetime('2024-01-01').normalize(), 'is_holiday'] = 1\n",
    "df.loc[df.index.normalize() == pd.to_datetime('2024-12-25').normalize(), 'is_holiday'] = 1\n",
    "df.loc[df.index.normalize() == pd.to_datetime('2025-01-01').normalize(), 'is_holiday'] = 1\n",
    "df.loc[df.index.normalize() == pd.to_datetime('2025-12-25').normalize().date(), 'is_holiday'] = 1 # Using .date() for comparison\n",
    "print(\"Added placeholder 'is_holiday' feature.\")"
   ],
   "id": "1e9132ec49910103",
   "outputs": [
    {
     "name": "stdout",
     "output_type": "stream",
     "text": [
      "\n",
      "--- Starting Feature Engineering ---\n",
      "Added comprehensive time-based features.\n",
      "Generated lagged features for Total_Energy(t), Solar_Available_for_Use(t), Electricity_Price(t), HVAC_Energy(t), Refrigeration_Energy(t), Lighting_Energy(t) for lags: [1, 2, 3, 24, 168].\n",
      "Generated rolling mean and standard deviation features for Total_Energy(t), Solar_Available_for_Use(t), Electricity_Price(t) for windows: [3, 6, 24, 168].\n",
      "Generated interaction features.\n",
      "Added placeholder 'is_holiday' feature.\n"
     ]
    }
   ],
   "execution_count": 4
  },
  {
   "metadata": {
    "ExecuteTime": {
     "end_time": "2025-06-14T08:31:46.809791Z",
     "start_time": "2025-06-14T08:31:46.732358Z"
    }
   },
   "cell_type": "code",
   "source": [
    "# --- 3. Noise Reduction (Simple Smoothing) ---\n",
    "print(\"\\n--- Applying Noise Reduction (Rolling Mean Smoothing) ---\")\n",
    "# Apply a rolling mean to smooth primary consumption/generation features.\n",
    "# This helps reduce high-frequency noise without losing too much information.\n",
    "smoothing_cols = ['HVAC_Energy(t)', 'Refrigeration_Energy(t)', 'Lighting_Energy(t)',\n",
    "                  'IT_System(t)', 'Other_System(t)', 'Solar_Available_for_Use(t)',\n",
    "                  'Electricity_Price(t)']\n",
    "smoothing_window = 3 # 3-hour rolling mean for smoothing\n",
    "\n",
    "for col in smoothing_cols:\n",
    "    df[f'{col}_smoothed'] = df[col].rolling(window=smoothing_window, min_periods=1, center=True).mean()\n",
    "    # Replace original with smoothed if preferred, or keep both\n",
    "    df[col] = df[f'{col}_smoothed']\n",
    "    df.drop(columns=[f'{col}_smoothed'], inplace=True) # Remove temporary smoothed column\n",
    "print(f\"Applied {smoothing_window}-hour rolling mean smoothing to key energy columns.\")\n"
   ],
   "id": "a64fed21c8ac5261",
   "outputs": [
    {
     "name": "stdout",
     "output_type": "stream",
     "text": [
      "\n",
      "--- Applying Noise Reduction (Rolling Mean Smoothing) ---\n",
      "Applied 3-hour rolling mean smoothing to key energy columns.\n"
     ]
    }
   ],
   "execution_count": 5
  },
  {
   "metadata": {
    "ExecuteTime": {
     "end_time": "2025-06-14T08:31:47.404836Z",
     "start_time": "2025-06-14T08:31:47.022222Z"
    }
   },
   "cell_type": "code",
   "source": [
    "# --- 4. Outlier Handling ---\n",
    "print(\"\\n--- Handling Outliers using IsolationForest ---\")\n",
    "# Isolation Forest is an unsupervised algorithm suitable for outlier detection.\n",
    "# It works well for high-dimensional datasets and is robust to noise.\n",
    "\n",
    "# Select numerical columns for outlier detection (excluding one-hot/binary encoded)\n",
    "# Also exclude battery stored levels if they are expected to hit min/max frequently\n",
    "outlier_cols = [\n",
    "    'Total_Energy(t)', 'Solar_Available_for_Use(t)', 'Electricity_Price(t)',\n",
    "    'HVAC_Energy(t)', 'Refrigeration_Energy(t)', 'Lighting_Energy(t)',\n",
    "    'IT_System(t)', 'Other_System(t)', 'Battery_1_Charge_Discharge(t)',\n",
    "    'Battery_2_Charge_Discharge(t)'\n",
    "]\n",
    "\n",
    "# Filter to only include columns that exist after smoothing\n",
    "outlier_cols = [col for col in outlier_cols if col in df.columns]\n",
    "\n",
    "if outlier_cols:\n",
    "    # Initialize IsolationForest. contamination is the estimated proportion of outliers in the data.\n",
    "    # Adjust contamination based on your data's expected outlier frequency.\n",
    "    iso_forest = IsolationForest(random_state=42, contamination=0.01) # Assuming 1% outliers\n",
    "\n",
    "    # Fit and predict outliers. -1 for outliers, 1 for inliers.\n",
    "    df['outlier_score'] = iso_forest.fit_predict(df[outlier_cols])\n",
    "\n",
    "    # Option 1: Remove outliers (common for training data)\n",
    "    initial_rows_before_outlier_removal = len(df)\n",
    "    df = df[df['outlier_score'] == 1].copy() # Keep only inliers\n",
    "    print(f\"Removed {initial_rows_before_outlier_removal - len(df)} outlier rows.\")\n",
    "\n",
    "    # Option 2 (Alternative: Impute outliers instead of removing):\n",
    "    # If you prefer to impute, you might replace outliers with the median/mean of the feature\n",
    "    # or with a boundary value (e.g., 99th percentile).\n",
    "    # For example: df.loc[df['outlier_score'] == -1, outlier_cols] = df[outlier_cols].median().values\n",
    "\n",
    "    df.drop(columns=['outlier_score'], inplace=True) # Drop the temporary outlier score column\n",
    "else:\n",
    "    print(\"No suitable columns for outlier detection found or selected.\")\n",
    "\n",
    "\n",
    "# --- Handle NaNs generated by lagging/rolling operations ---\n",
    "# After generating lagged and rolling features, the first few rows will have NaNs.\n",
    "# It's usually best to drop these for model training.\n",
    "initial_rows_before_nan_drop = len(df)\n",
    "df.dropna(inplace=True)\n",
    "print(f\"Dropped {initial_rows_before_nan_drop - len(df)} rows with NaN values (from lagging/rolling).\")\n",
    "print(f\"DataFrame now has {len(df)} rows after cleaning.\")"
   ],
   "id": "1ed371c932172a1c",
   "outputs": [
    {
     "name": "stdout",
     "output_type": "stream",
     "text": [
      "\n",
      "--- Handling Outliers using IsolationForest ---\n",
      "Removed 128 outlier rows.\n",
      "Dropped 161 rows with NaN values (from lagging/rolling).\n",
      "DataFrame now has 12431 rows after cleaning.\n"
     ]
    }
   ],
   "execution_count": 6
  },
  {
   "metadata": {
    "ExecuteTime": {
     "end_time": "2025-06-14T08:31:47.450933Z",
     "start_time": "2025-06-14T08:31:47.413802Z"
    }
   },
   "cell_type": "code",
   "source": [
    "# --- 5. Column Management ---\n",
    "print(\"\\n--- Managing Columns for Model Training ---\")\n",
    "\n",
    "# Define target variable\n",
    "TARGET_COLUMN = 'Total_Energy(t)'\n",
    "\n",
    "# Columns to keep for features (X)\n",
    "# Include most engineered features and original ones that are relevant.\n",
    "# Exclude original 'timestamp' (it's the index), and the raw values if smoothed versions are used.\n",
    "# Exclude Battery_X_Energy_Stored(t) if they are considered \"state\" outputs or highly correlated with other features.\n",
    "# Make sure to include the lagged values of the target variable for autoregressive models.\n",
    "\n",
    "# Start with all current columns\n",
    "features_to_keep = list(df.columns)\n",
    "\n",
    "# Remove the target variable itself from features\n",
    "if TARGET_COLUMN in features_to_keep:\n",
    "    features_to_keep.remove(TARGET_COLUMN)\n",
    "\n",
    "# Remove non-numeric/redundant time columns if they aren't directly used as features\n",
    "columns_to_drop_post_engineering = [\n",
    "    'day_name', 'month_name', # String representations\n",
    "    'Base_Consumption_Loads(t)', # Derived directly from other consumption loads, can be redundant\n",
    "    # Potentially remove some original raw columns if smoothed versions are used effectively\n",
    "]\n",
    "features_to_keep = [col for col in features_to_keep if col not in columns_to_drop_post_engineering]\n",
    "\n",
    "# Ensure specific critical columns are included (e.g., battery stored levels if they are inputs for forecasting next consumption)\n",
    "# Re-add specific columns if they were accidentally dropped but are needed\n",
    "# Example: if you plan to predict 'Total_Energy(t)', then 'Battery_X_Energy_Stored(t)' from previous hour might be crucial features.\n",
    "# For simplicity, let's keep all numerical columns that aren't being dropped explicitly.\n",
    "\n",
    "# Final list of features (X) and target (y)\n",
    "X = df[features_to_keep]\n",
    "y = df[TARGET_COLUMN]\n",
    "\n",
    "print(f\"Features (X) shape: {X.shape}\")\n",
    "print(f\"Target (y) shape: {y.shape}\")\n",
    "print(\"Sample Features after column management:\")\n",
    "print(X.head().to_string())"
   ],
   "id": "a7ae95df2b2edfb7",
   "outputs": [
    {
     "name": "stdout",
     "output_type": "stream",
     "text": [
      "\n",
      "--- Managing Columns for Model Training ---\n",
      "Features (X) shape: (12431, 80)\n",
      "Target (y) shape: (12431,)\n",
      "Sample Features after column management:\n",
      "                     HVAC_Energy(t)  Refrigeration_Energy(t)  Lighting_Energy(t)  IT_System(t)  Other_System(t)  Electricity_Price(t)  Solar_Available_for_Use(t)  Solar_Used_to_Charge_Battery(t)  Battery_1_Charge_Discharge(t)  Battery_1_Energy_Stored(t)  Battery_2_Charge_Discharge(t)  Battery_2_Energy_Stored(t)  hour_of_day  day_of_week  day_of_month  day_of_year  week_of_year  month  quarter  is_weekend  season_encoded  Total_Energy(t)_lag_1h  Total_Energy(t)_lag_2h  Total_Energy(t)_lag_3h  Total_Energy(t)_lag_24h  Total_Energy(t)_lag_168h  Solar_Available_for_Use(t)_lag_1h  Solar_Available_for_Use(t)_lag_2h  Solar_Available_for_Use(t)_lag_3h  Solar_Available_for_Use(t)_lag_24h  Solar_Available_for_Use(t)_lag_168h  Electricity_Price(t)_lag_1h  Electricity_Price(t)_lag_2h  Electricity_Price(t)_lag_3h  Electricity_Price(t)_lag_24h  Electricity_Price(t)_lag_168h  HVAC_Energy(t)_lag_1h  HVAC_Energy(t)_lag_2h  HVAC_Energy(t)_lag_3h  HVAC_Energy(t)_lag_24h  HVAC_Energy(t)_lag_168h  Refrigeration_Energy(t)_lag_1h  Refrigeration_Energy(t)_lag_2h  Refrigeration_Energy(t)_lag_3h  Refrigeration_Energy(t)_lag_24h  Refrigeration_Energy(t)_lag_168h  Lighting_Energy(t)_lag_1h  Lighting_Energy(t)_lag_2h  Lighting_Energy(t)_lag_3h  Lighting_Energy(t)_lag_24h  Lighting_Energy(t)_lag_168h  Total_Energy(t)_roll_mean_3h  Total_Energy(t)_roll_std_3h  Total_Energy(t)_roll_mean_6h  Total_Energy(t)_roll_std_6h  Total_Energy(t)_roll_mean_24h  Total_Energy(t)_roll_std_24h  Total_Energy(t)_roll_mean_168h  Total_Energy(t)_roll_std_168h  Solar_Available_for_Use(t)_roll_mean_3h  Solar_Available_for_Use(t)_roll_std_3h  Solar_Available_for_Use(t)_roll_mean_6h  Solar_Available_for_Use(t)_roll_std_6h  Solar_Available_for_Use(t)_roll_mean_24h  Solar_Available_for_Use(t)_roll_std_24h  Solar_Available_for_Use(t)_roll_mean_168h  Solar_Available_for_Use(t)_roll_std_168h  Electricity_Price(t)_roll_mean_3h  Electricity_Price(t)_roll_std_3h  Electricity_Price(t)_roll_mean_6h  Electricity_Price(t)_roll_std_6h  Electricity_Price(t)_roll_mean_24h  Electricity_Price(t)_roll_std_24h  Electricity_Price(t)_roll_mean_168h  Electricity_Price(t)_roll_std_168h  Consumption_x_Price  Solar_x_DaylightHours  HVAC_x_IsWeekend  Fridge_x_IsWeekend  is_holiday\n",
      "timestamp                                                                                                                                                                                                                                                                                                                                                                                                                                                                                                                                                                                                                                                                                                                                                                                                                                                                                                                                                                                                                                                                                                                                                                                                                                                                                                                                                                                                                                                                                                                                                                                                                                                                                                                                                                                                                                                                                                                                                                                                                                                                                                                                                                                                                                                                                                                      \n",
      "2024-01-08 00:00:00      100.851600               194.310506             1.01829     58.288352        49.657984              0.074879                         0.0                              0.0                     -17.453914                         0.0                     -16.570624                    0.130292            0            0             8            8             2      1        1           0               3              414.810260              509.521372              516.330425               403.577989                423.789975                                0.0                                0.0                                0.0                                 0.0                                  0.0                     0.095045                     0.096608                     0.091969                      0.068095                       0.071073              88.117111              73.032076              80.261317              119.230473               112.630998                      197.141124                      204.343517                      192.614485                       189.716795                        191.979173                    2.71665                  99.561541                  94.932462                    0.486280                     0.845627                    441.368933                    59.498569                    489.034530                    65.787325                     527.010450                    113.460053                      526.876854                     113.164844                                      0.0                                     0.0                                      0.0                                     0.0                                 38.317304                                53.951456                                  38.768653                                 52.923438                           0.085708                          0.017544                           0.117496                          0.048302                            0.108972                           0.045701                             0.109836                            0.043063            26.173313                    0.0               0.0                 0.0           0\n",
      "2024-01-08 01:00:00      107.855580               194.066751             0.11274     52.767724        40.068883              0.066090                         0.0                              0.0                       0.000000                         0.0                      -0.406100                    0.000000            1            0             8            8             2      1        1           0               3              399.775168              414.810260              509.521372               388.582649                401.801008                                0.0                                0.0                                0.0                                 0.0                                  0.0                     0.065470                     0.095045                     0.096608                      0.055976                       0.063859             100.768837              88.117111              73.032076               96.589826               100.895347                      189.153476                      197.141124                      204.343517                       185.935195                        191.654504                    0.33822                   2.716650                  99.561541                    0.000000                     3.317241                    404.126733                     9.305042                    462.127105                    64.330063                     527.394289                    112.985979                      526.853007                     113.191777                                      0.0                                     0.0                                      0.0                                     0.0                                 38.317304                                53.951456                                  38.768653                                 52.923438                           0.074879                          0.017477                           0.099435                          0.043665                            0.109311                           0.045319                             0.109837                            0.043061            25.507459                    0.0               0.0                 0.0           0\n",
      "2024-01-08 02:00:00      110.907961               195.422311             0.00000     49.250269        31.470479              0.064231                         0.0                              0.0                       0.000000                         0.0                       0.000000                    0.000000            2            0             8            8             2      1        1           0               3              397.794771              399.775168              414.810260               361.259362                408.983912                                0.0                                0.0                                0.0                                 0.0                                  0.0                     0.064122                     0.065470                     0.095045                      0.064127                       0.069423             113.668853             100.768837              88.117111               92.411201               104.321875                      196.636918                      189.153476                      197.141124                       181.913503                        187.191452                    0.00000                   0.338220                   2.716650                    0.176238                     0.000000                    394.871679                     6.849966                    437.546182                    59.095670                     528.468694                    111.449638                      526.722419                     113.341132                                      0.0                                     0.0                                      0.0                                     0.0                                 38.317304                                53.951456                                  38.768653                                 52.923438                           0.066090                          0.002341                           0.080315                          0.015724                            0.109501                           0.045131                             0.109833                            0.043065            26.581727                    0.0               0.0                 0.0           0\n",
      "2024-01-08 03:00:00      105.154227               193.577679             0.00000     50.463749        30.171072              0.066635                         0.0                              0.0                       0.000000                         0.0                       0.000000                    0.000000            3            0             8            8             2      1        1           0               3              387.045097              397.794771              399.775168               390.647174                367.396840                                0.0                                0.0                                0.0                                 0.0                                  0.0                     0.068679                     0.064122                     0.065470                      0.070279                       0.071741             109.129050             113.668853             100.768837              116.897496                97.475065                      196.409861                      196.636918                      189.153476                       187.604576                        190.214429                    0.00000                   0.000000                   0.338220                    0.000000                     3.745603                    387.051021                    10.740789                    414.209977                    48.449029                     527.871445                    112.255815                      526.775492                     113.268143                                      0.0                                     0.0                                      0.0                                     0.0                                 38.317304                                53.951456                                  38.768653                                 52.923438                           0.064231                          0.004394                           0.074969                          0.016408                            0.109068                           0.045571                             0.109762                            0.043138            22.538229                    0.0               0.0                 0.0           0\n",
      "2024-01-08 04:00:00      102.335798               206.343117             0.39545     51.221030        28.541866              0.063063                         0.0                              0.0                       0.000000                         0.0                       0.000000                    0.000000            4            0             8            8             2      1        1           0               3              376.313195              387.045097              397.794771               384.038620                364.941777                                0.0                                0.0                                0.0                                 0.0                                  0.0                     0.059892                     0.068679                     0.064122                      0.068225                       0.069620             109.925980             109.129050             113.668853              112.962363                89.384721                      193.220154                      196.409861                      196.636918                       183.808377                        193.397670                    0.00000                   0.000000                   0.000000                    0.000000                     0.000000                    379.366726                     6.695915                    391.746730                    15.378069                     527.484081                    112.788498                      526.833826                     113.186793                                      0.0                                     0.0                                      0.0                                     0.0                                 38.317304                                53.951456                                  38.768653                                 52.923438                           0.066635                          0.005988                           0.070757                          0.012526                            0.109198                           0.045455                             0.109772                            0.043128            26.731669                    0.0               0.0                 0.0           0\n"
     ]
    }
   ],
   "execution_count": 7
  },
  {
   "metadata": {
    "ExecuteTime": {
     "end_time": "2025-06-14T08:31:47.586018Z",
     "start_time": "2025-06-14T08:31:47.522097Z"
    }
   },
   "cell_type": "code",
   "source": [
    "# --- 6. Data Scaling ---\n",
    "print(\"\\n--- Scaling Data for Model Training ---\")\n",
    "# Scaling is essential for many ML algorithms (e.g., neural networks, SVMs, linear models, k-NN).\n",
    "# It prevents features with larger values from dominating the learning process.\n",
    "\n",
    "# Identify numerical columns to scale. Exclude binary/categorical features.\n",
    "numerical_cols = X.select_dtypes(include=np.number).columns.tolist()\n",
    "# Exclude binary features like 'is_weekend', 'is_holiday' from scaling if you want them as 0/1\n",
    "# Adjust based on your specific engineered features\n",
    "cols_to_exclude_from_scaling = ['is_weekend', 'is_holiday']\n",
    "numerical_cols_to_scale = [col for col in numerical_cols if col not in cols_to_exclude_from_scaling]\n",
    "\n",
    "# Use StandardScaler for most cases (mean=0, variance=1)\n",
    "scaler_X = StandardScaler()\n",
    "# Fit and transform features\n",
    "X_scaled = X.copy() # Create a copy to avoid modifying original X\n",
    "X_scaled[numerical_cols_to_scale] = scaler_X.fit_transform(X[numerical_cols_to_scale])\n",
    "\n",
    "# It's also common to scale the target variable, especially for regression tasks\n",
    "# if its range is very large or for neural networks.\n",
    "scaler_y = StandardScaler()\n",
    "y_scaled = scaler_y.fit_transform(y.values.reshape(-1, 1)).flatten() # Reshape for scaler, then flatten back\n",
    "\n",
    "print(\"Numerical features in X scaled using StandardScaler.\")\n",
    "print(\"Target variable (y) scaled using StandardScaler.\")\n",
    "print(\"\\nScaled Features (X_scaled) Head:\")\n",
    "print(X_scaled.head().to_string())\n",
    "print(\"\\nScaled Target (y_scaled) Head:\")\n",
    "print(y_scaled[:5]) # Print first 5 scaled target values"
   ],
   "id": "a790ac8cc56a6a8f",
   "outputs": [
    {
     "name": "stdout",
     "output_type": "stream",
     "text": [
      "\n",
      "--- Scaling Data for Model Training ---\n",
      "Numerical features in X scaled using StandardScaler.\n",
      "Target variable (y) scaled using StandardScaler.\n",
      "\n",
      "Scaled Features (X_scaled) Head:\n",
      "                     HVAC_Energy(t)  Refrigeration_Energy(t)  Lighting_Energy(t)  IT_System(t)  Other_System(t)  Electricity_Price(t)  Solar_Available_for_Use(t)  Solar_Used_to_Charge_Battery(t)  Battery_1_Charge_Discharge(t)  Battery_1_Energy_Stored(t)  Battery_2_Charge_Discharge(t)  Battery_2_Energy_Stored(t)  hour_of_day  day_of_week  day_of_month  day_of_year  week_of_year     month   quarter  is_weekend  season_encoded  Total_Energy(t)_lag_1h  Total_Energy(t)_lag_2h  Total_Energy(t)_lag_3h  Total_Energy(t)_lag_24h  Total_Energy(t)_lag_168h  Solar_Available_for_Use(t)_lag_1h  Solar_Available_for_Use(t)_lag_2h  Solar_Available_for_Use(t)_lag_3h  Solar_Available_for_Use(t)_lag_24h  Solar_Available_for_Use(t)_lag_168h  Electricity_Price(t)_lag_1h  Electricity_Price(t)_lag_2h  Electricity_Price(t)_lag_3h  Electricity_Price(t)_lag_24h  Electricity_Price(t)_lag_168h  HVAC_Energy(t)_lag_1h  HVAC_Energy(t)_lag_2h  HVAC_Energy(t)_lag_3h  HVAC_Energy(t)_lag_24h  HVAC_Energy(t)_lag_168h  Refrigeration_Energy(t)_lag_1h  Refrigeration_Energy(t)_lag_2h  Refrigeration_Energy(t)_lag_3h  Refrigeration_Energy(t)_lag_24h  Refrigeration_Energy(t)_lag_168h  Lighting_Energy(t)_lag_1h  Lighting_Energy(t)_lag_2h  Lighting_Energy(t)_lag_3h  Lighting_Energy(t)_lag_24h  Lighting_Energy(t)_lag_168h  Total_Energy(t)_roll_mean_3h  Total_Energy(t)_roll_std_3h  Total_Energy(t)_roll_mean_6h  Total_Energy(t)_roll_std_6h  Total_Energy(t)_roll_mean_24h  Total_Energy(t)_roll_std_24h  Total_Energy(t)_roll_mean_168h  Total_Energy(t)_roll_std_168h  Solar_Available_for_Use(t)_roll_mean_3h  Solar_Available_for_Use(t)_roll_std_3h  Solar_Available_for_Use(t)_roll_mean_6h  Solar_Available_for_Use(t)_roll_std_6h  Solar_Available_for_Use(t)_roll_mean_24h  Solar_Available_for_Use(t)_roll_std_24h  Solar_Available_for_Use(t)_roll_mean_168h  Solar_Available_for_Use(t)_roll_std_168h  Electricity_Price(t)_roll_mean_3h  Electricity_Price(t)_roll_std_3h  Electricity_Price(t)_roll_mean_6h  Electricity_Price(t)_roll_std_6h  Electricity_Price(t)_roll_mean_24h  Electricity_Price(t)_roll_std_24h  Electricity_Price(t)_roll_mean_168h  Electricity_Price(t)_roll_std_168h  Consumption_x_Price  Solar_x_DaylightHours  HVAC_x_IsWeekend  Fridge_x_IsWeekend  is_holiday\n",
      "timestamp                                                                                                                                                                                                                                                                                                                                                                                                                                                                                                                                                                                                                                                                                                                                                                                                                                                                                                                                                                                                                                                                                                                                                                                                                                                                                                                                                                                                                                                                                                                                                                                                                                                                                                                                                                                                                                                                                                                                                                                                                                                                                                                                                                                                                                                                                                                          \n",
      "2024-01-08 00:00:00       -1.518822                -0.775311           -1.565887     -1.031124        -0.022793             -0.819758                   -0.882243                        -0.509394                      -1.312346                   -0.920568                      -1.247234                   -0.919907    -1.657624    -1.496347      -0.87254    -1.431147     -1.406764 -1.364901 -1.100934           0        1.341566               -1.387478               -0.533972               -0.472392                -1.490279                 -1.298536                          -0.813148                          -0.812059                          -0.811289                           -0.813547                            -0.813461                    -0.326470                    -0.291839                    -0.390834                     -0.909426                      -0.844919              -1.721177              -2.029085              -1.875769               -1.073987                -1.185562                       -0.338563                        0.316936                       -0.749118                        -1.012567                         -0.809320                  -1.349128                   0.978863                   0.868136                   -1.405959                    -1.397402                     -1.186670                     1.711131                     -0.799465                     0.780931                      -1.195244                      0.912663                       -1.194478                       1.371084                                -0.881223                               -0.909009                                 -0.97434                                -1.14516                                 -0.273293                                 0.390409                                  -0.257725                                  0.387715                          -0.567728                          0.246740                           0.190747                          1.651940                           -0.088702                           0.672854                            -0.025850                           -3.014982            -1.097189              -0.705512         -0.596524           -0.627388           0\n",
      "2024-01-08 01:00:00       -1.367706                -0.804331           -1.590368     -1.294631        -0.692488             -1.024024                   -0.882243                        -0.509394                      -0.034306                   -0.920568                      -0.063891                   -0.920496    -1.513135    -1.496347      -0.87254    -1.431147     -1.406764 -1.364901 -1.100934           0        1.341566               -1.522843               -1.385080               -0.533537                -1.625451                 -1.496803                          -0.813148                          -0.812059                          -0.811289                           -0.813547                            -0.813461                    -0.965670                    -0.325646                    -0.290457                     -1.171375                      -1.000913              -1.459253              -1.717454              -2.024822               -1.543096                -1.428383                       -1.073939                       -0.338685                        0.314440                        -1.356279                         -0.838930                  -1.406284                  -1.347616                   0.979340                   -1.417651                    -1.337976                     -1.533132                    -1.111572                     -1.068588                     0.714345                      -1.184403                      0.839780                       -1.195158                       1.376032                                -0.881223                               -0.909009                                 -0.97434                                -1.14516                                 -0.273293                                 0.390409                                  -0.257725                                  0.387715                          -0.819347                          0.242473                          -0.275042                          1.350249                           -0.064225                           0.300420                            -0.025737                           -3.019391            -1.115499              -0.705512         -0.596524           -0.627388           0\n",
      "2024-01-08 02:00:00       -1.301849                -0.642949           -1.593415     -1.462525        -1.292994             -1.067238                   -0.882243                        -0.509394                      -0.034306                   -0.920568                      -0.034162                   -0.920496    -1.368646    -1.496347      -0.87254    -1.431147     -1.406764 -1.364901 -1.100934           0        1.341566               -1.540673               -1.520191               -1.384039                -1.871750                 -1.432038                          -0.813148                          -0.812059                          -0.811289                           -0.813547                            -0.813461                    -0.994803                    -0.965066                    -0.324289                     -0.995195                      -0.880590              -1.192189              -1.456092              -1.713798               -1.629676                -1.357485                       -0.384982                       -1.065787                       -0.338654                        -1.721813                         -1.245951                  -1.414412                  -1.404753                  -1.347148                   -1.413413                    -1.417733                     -1.619231                    -1.249637                     -1.314442                     0.475172                      -1.154056                      0.603585                       -1.198879                       1.403468                                -0.881223                               -0.909009                                 -0.97434                                -1.14516                                 -0.273293                                 0.390409                                  -0.257725                                  0.387715                          -1.023564                         -0.725885                          -0.768134                         -0.467407                           -0.050547                           0.116968                            -0.026057                           -3.008298            -1.085958              -0.705512         -0.596524           -0.627388           0\n",
      "2024-01-08 03:00:00       -1.425990                -0.862556           -1.593415     -1.404603        -1.383744             -1.011369                   -0.882243                        -0.509394                      -0.034306                   -0.920568                      -0.034162                   -0.920496    -1.224156    -1.496347      -0.87254    -1.431147     -1.406764 -1.364901 -1.100934           0        1.341566               -1.637455               -1.537987               -1.519053                -1.606841                 -1.807014                          -0.813148                          -0.812059                          -0.811289                           -0.813547                            -0.813461                    -0.896323                    -0.994209                    -0.964180                     -0.862202                      -0.830490              -1.286174              -1.189600              -1.452943               -1.122326                -1.499152                       -0.405886                       -0.384582                       -1.062953                        -1.204548                         -0.970261                  -1.414412                  -1.412878                  -1.404284                   -1.417651                    -1.327676                     -1.691986                    -1.030831                     -1.547846                    -0.011300                      -1.170925                      0.727526                       -1.197367                       1.390060                                -0.881223                               -0.909009                                 -0.97434                                -1.14516                                 -0.273293                                 0.390409                                  -0.257725                                  0.387715                          -1.066767                         -0.594508                          -0.906011                         -0.422940                           -0.081758                           0.546020                            -0.031158                           -2.818168            -1.197148              -0.705512         -0.596524           -0.627388           0\n",
      "2024-01-08 04:00:00       -1.486799                 0.657192           -1.582725     -1.368457        -1.497526             -1.094373                   -0.882243                        -0.509394                      -0.034306                   -0.920568                      -0.034162                   -0.920496    -1.079667    -1.496347      -0.87254    -1.431147     -1.406764 -1.364901 -1.100934           0        1.341566               -1.734077               -1.634588               -1.536837                -1.666412                 -1.829150                          -0.813148                          -0.812059                          -0.811289                           -0.813547                            -0.813461                    -1.086225                    -0.895695                    -0.993344                     -0.906602                      -0.876344              -1.269676              -1.283384              -1.186970               -1.203861                -1.666548                       -0.699544                       -0.405251                       -0.384374                        -1.549587                         -0.679956                  -1.414412                  -1.412878                  -1.412409                   -1.417651                    -1.417733                     -1.763473                    -1.258300                     -1.772519                    -1.522397                      -1.181867                      0.809420                       -1.195704                       1.375116                                -0.881223                               -0.909009                                 -0.97434                                -1.14516                                 -0.273293                                 0.390409                                  -0.257725                                  0.387715                          -1.010911                         -0.492529                          -1.014649                         -0.675427                           -0.072417                           0.432104                            -0.030420                           -2.842717            -1.081835              -0.705512         -0.596524           -0.627388           0\n",
      "\n",
      "Scaled Target (y_scaled) Head:\n",
      "[-1.52720443 -1.54508515 -1.64214237 -1.73903914 -1.75322625]\n"
     ]
    }
   ],
   "execution_count": 8
  },
  {
   "metadata": {
    "ExecuteTime": {
     "end_time": "2025-06-14T08:31:55.063124Z",
     "start_time": "2025-06-14T08:31:53.432509Z"
    }
   },
   "cell_type": "code",
   "source": [
    "# --- 7. Generate Processed Data in CSV Format ---\n",
    "print(\"\\n--- Saving Processed Data ---\")\n",
    "\n",
    "# Combine scaled features and scaled target back into a single DataFrame for saving\n",
    "# Add the target variable back as a column\n",
    "processed_df = X_scaled.copy()\n",
    "processed_df[TARGET_COLUMN] = y_scaled\n",
    "\n",
    "# Save to CSV\n",
    "processed_df.to_csv(PROCESSED_DATA_FILE, index=True) # Keep timestamp index in CSV\n",
    "print(f\"Processed data saved to: {PROCESSED_DATA_FILE}\")\n",
    "print(f\"Shape of processed data: {processed_df.shape}\")\n",
    "print(\"Sample of processed data (first 5 rows and selected columns):\")\n",
    "print(processed_df.head()[['Total_Energy(t)', 'Total_Energy(t)_lag_24h', 'Solar_Available_for_Use(t)_roll_mean_24h']].to_string())\n",
    "\n",
    "print(\"\\n--- Preprocessing Complete ---\")"
   ],
   "id": "4a18e9a35f649efc",
   "outputs": [
    {
     "name": "stdout",
     "output_type": "stream",
     "text": [
      "\n",
      "--- Saving Processed Data ---\n",
      "Processed data saved to: processed_complete_history_store1.csv\n",
      "Shape of processed data: (12431, 81)\n",
      "Sample of processed data (first 5 rows and selected columns):\n",
      "                     Total_Energy(t)  Total_Energy(t)_lag_24h  Solar_Available_for_Use(t)_roll_mean_24h\n",
      "timestamp                                                                                              \n",
      "2024-01-08 00:00:00        -1.527204                -1.490279                                 -0.273293\n",
      "2024-01-08 01:00:00        -1.545085                -1.625451                                 -0.273293\n",
      "2024-01-08 02:00:00        -1.642142                -1.871750                                 -0.273293\n",
      "2024-01-08 03:00:00        -1.739039                -1.606841                                 -0.273293\n",
      "2024-01-08 04:00:00        -1.753226                -1.666412                                 -0.273293\n",
      "\n",
      "--- Preprocessing Complete ---\n"
     ]
    }
   ],
   "execution_count": 9
  },
  {
   "metadata": {
    "ExecuteTime": {
     "end_time": "2025-06-14T08:31:55.652575Z",
     "start_time": "2025-06-14T08:31:55.646828Z"
    }
   },
   "cell_type": "code",
   "source": "",
   "id": "965b67eb9f122e4f",
   "outputs": [],
   "execution_count": null
  }
 ],
 "metadata": {
  "kernelspec": {
   "display_name": "Python 3",
   "language": "python",
   "name": "python3"
  },
  "language_info": {
   "codemirror_mode": {
    "name": "ipython",
    "version": 2
   },
   "file_extension": ".py",
   "mimetype": "text/x-python",
   "name": "python",
   "nbconvert_exporter": "python",
   "pygments_lexer": "ipython2",
   "version": "2.7.6"
  }
 },
 "nbformat": 4,
 "nbformat_minor": 5
}
